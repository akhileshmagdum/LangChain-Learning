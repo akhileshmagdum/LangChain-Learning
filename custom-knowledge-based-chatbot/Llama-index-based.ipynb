{
 "cells": [
  {
   "cell_type": "markdown",
   "id": "d2b3edf6",
   "metadata": {},
   "source": [
    "**<h1 style=\"text-align: center;\">Chatbot with custom knowledge base (Llama_Index)</h1><hr>**"
   ]
  },
  {
   "cell_type": "markdown",
   "id": "46039f02",
   "metadata": {},
   "source": [
    "## Note\n",
    "[Tutorial Link](https://bootcamp.uxdesign.cc/a-step-by-step-guide-to-building-a-chatbot-based-on-your-own-documents-with-gpt-2d550534eea5) <br>\n",
    "* High cost simple request costs around 7000 to 12000 tokens with custom knowledge base sent in the prompt."
   ]
  },
  {
   "cell_type": "markdown",
   "id": "0c7971a0",
   "metadata": {},
   "source": [
    "## Import necessary modules"
   ]
  },
  {
   "cell_type": "code",
   "execution_count": 1,
   "id": "6d9b0881",
   "metadata": {},
   "outputs": [
    {
     "name": "stdout",
     "output_type": "stream",
     "text": [
      "Requirement already satisfied: llama-index in c:\\users\\dell\\appdata\\local\\programs\\python\\python310\\lib\\site-packages (0.7.8)\n",
      "Requirement already satisfied: tiktoken in c:\\users\\dell\\appdata\\local\\programs\\python\\python310\\lib\\site-packages (from llama-index) (0.4.0)\n",
      "Requirement already satisfied: dataclasses-json in c:\\users\\dell\\appdata\\local\\programs\\python\\python310\\lib\\site-packages (from llama-index) (0.5.9)\n",
      "Requirement already satisfied: langchain>=0.0.218 in c:\\users\\dell\\appdata\\local\\programs\\python\\python310\\lib\\site-packages (from llama-index) (0.0.232)\n",
      "Requirement already satisfied: sqlalchemy>=2.0.15 in c:\\users\\dell\\appdata\\local\\programs\\python\\python310\\lib\\site-packages (from llama-index) (2.0.18)\n",
      "Requirement already satisfied: numpy in c:\\users\\dell\\appdata\\local\\programs\\python\\python310\\lib\\site-packages (from llama-index) (1.25.0)\n",
      "Requirement already satisfied: tenacity<9.0.0,>=8.2.0 in c:\\users\\dell\\appdata\\local\\programs\\python\\python310\\lib\\site-packages (from llama-index) (8.2.2)\n",
      "Requirement already satisfied: openai>=0.26.4 in c:\\users\\dell\\appdata\\local\\programs\\python\\python310\\lib\\site-packages (from llama-index) (0.27.8)\n",
      "Requirement already satisfied: pandas in c:\\users\\dell\\appdata\\local\\programs\\python\\python310\\lib\\site-packages (from llama-index) (2.0.3)\n",
      "Requirement already satisfied: urllib3<2 in c:\\users\\dell\\appdata\\local\\programs\\python\\python310\\lib\\site-packages (from llama-index) (1.26.16)\n",
      "Requirement already satisfied: fsspec>=2023.5.0 in c:\\users\\dell\\appdata\\local\\programs\\python\\python310\\lib\\site-packages (from llama-index) (2023.6.0)\n",
      "Requirement already satisfied: typing-inspect>=0.8.0 in c:\\users\\dell\\appdata\\local\\programs\\python\\python310\\lib\\site-packages (from llama-index) (0.9.0)\n",
      "Requirement already satisfied: typing-extensions>=4.5.0 in c:\\users\\dell\\appdata\\local\\programs\\python\\python310\\lib\\site-packages (from llama-index) (4.7.1)\n",
      "Requirement already satisfied: beautifulsoup4 in c:\\users\\dell\\appdata\\local\\programs\\python\\python310\\lib\\site-packages (from llama-index) (4.12.2)\n",
      "Requirement already satisfied: nest-asyncio in c:\\users\\dell\\appdata\\local\\programs\\python\\python310\\lib\\site-packages (from llama-index) (1.5.6)\n",
      "Requirement already satisfied: PyYAML>=5.4.1 in c:\\users\\dell\\appdata\\local\\programs\\python\\python310\\lib\\site-packages (from langchain>=0.0.218->llama-index) (6.0)\n",
      "Requirement already satisfied: aiohttp<4.0.0,>=3.8.3 in c:\\users\\dell\\appdata\\local\\programs\\python\\python310\\lib\\site-packages (from langchain>=0.0.218->llama-index) (3.8.4)\n",
      "Requirement already satisfied: async-timeout<5.0.0,>=4.0.0 in c:\\users\\dell\\appdata\\local\\programs\\python\\python310\\lib\\site-packages (from langchain>=0.0.218->llama-index) (4.0.2)\n",
      "Requirement already satisfied: langsmith<0.0.6,>=0.0.5 in c:\\users\\dell\\appdata\\local\\programs\\python\\python310\\lib\\site-packages (from langchain>=0.0.218->llama-index) (0.0.5)\n",
      "Requirement already satisfied: numexpr<3.0.0,>=2.8.4 in c:\\users\\dell\\appdata\\local\\programs\\python\\python310\\lib\\site-packages (from langchain>=0.0.218->llama-index) (2.8.4)\n",
      "Requirement already satisfied: openapi-schema-pydantic<2.0,>=1.2 in c:\\users\\dell\\appdata\\local\\programs\\python\\python310\\lib\\site-packages (from langchain>=0.0.218->llama-index) (1.2.4)\n",
      "Requirement already satisfied: pydantic<2,>=1 in c:\\users\\dell\\appdata\\local\\programs\\python\\python310\\lib\\site-packages (from langchain>=0.0.218->llama-index) (1.10.11)\n",
      "Requirement already satisfied: requests<3,>=2 in c:\\users\\dell\\appdata\\local\\programs\\python\\python310\\lib\\site-packages (from langchain>=0.0.218->llama-index) (2.31.0)\n",
      "Requirement already satisfied: marshmallow<4.0.0,>=3.3.0 in c:\\users\\dell\\appdata\\local\\programs\\python\\python310\\lib\\site-packages (from dataclasses-json->llama-index) (3.19.0)\n",
      "Requirement already satisfied: marshmallow-enum<2.0.0,>=1.5.1 in c:\\users\\dell\\appdata\\local\\programs\\python\\python310\\lib\\site-packages (from dataclasses-json->llama-index) (1.5.1)\n",
      "Requirement already satisfied: tqdm in c:\\users\\dell\\appdata\\local\\programs\\python\\python310\\lib\\site-packages (from openai>=0.26.4->llama-index) (4.65.0)\n",
      "Requirement already satisfied: greenlet!=0.4.17 in c:\\users\\dell\\appdata\\local\\programs\\python\\python310\\lib\\site-packages (from sqlalchemy>=2.0.15->llama-index) (2.0.2)\n",
      "Requirement already satisfied: mypy-extensions>=0.3.0 in c:\\users\\dell\\appdata\\local\\programs\\python\\python310\\lib\\site-packages (from typing-inspect>=0.8.0->llama-index) (1.0.0)\n",
      "Requirement already satisfied: soupsieve>1.2 in c:\\users\\dell\\appdata\\local\\programs\\python\\python310\\lib\\site-packages (from beautifulsoup4->llama-index) (2.4.1)\n",
      "Requirement already satisfied: python-dateutil>=2.8.2 in c:\\users\\dell\\appdata\\local\\programs\\python\\python310\\lib\\site-packages (from pandas->llama-index) (2.8.2)\n",
      "Requirement already satisfied: pytz>=2020.1 in c:\\users\\dell\\appdata\\local\\programs\\python\\python310\\lib\\site-packages (from pandas->llama-index) (2023.3)\n",
      "Requirement already satisfied: tzdata>=2022.1 in c:\\users\\dell\\appdata\\local\\programs\\python\\python310\\lib\\site-packages (from pandas->llama-index) (2023.3)\n",
      "Requirement already satisfied: regex>=2022.1.18 in c:\\users\\dell\\appdata\\local\\programs\\python\\python310\\lib\\site-packages (from tiktoken->llama-index) (2023.6.3)\n",
      "Requirement already satisfied: attrs>=17.3.0 in c:\\users\\dell\\appdata\\local\\programs\\python\\python310\\lib\\site-packages (from aiohttp<4.0.0,>=3.8.3->langchain>=0.0.218->llama-index) (23.1.0)\n",
      "Requirement already satisfied: charset-normalizer<4.0,>=2.0 in c:\\users\\dell\\appdata\\local\\programs\\python\\python310\\lib\\site-packages (from aiohttp<4.0.0,>=3.8.3->langchain>=0.0.218->llama-index) (3.1.0)\n",
      "Requirement already satisfied: multidict<7.0,>=4.5 in c:\\users\\dell\\appdata\\local\\programs\\python\\python310\\lib\\site-packages (from aiohttp<4.0.0,>=3.8.3->langchain>=0.0.218->llama-index) (6.0.4)\n",
      "Requirement already satisfied: yarl<2.0,>=1.0 in c:\\users\\dell\\appdata\\local\\programs\\python\\python310\\lib\\site-packages (from aiohttp<4.0.0,>=3.8.3->langchain>=0.0.218->llama-index) (1.9.2)\n",
      "Requirement already satisfied: frozenlist>=1.1.1 in c:\\users\\dell\\appdata\\local\\programs\\python\\python310\\lib\\site-packages (from aiohttp<4.0.0,>=3.8.3->langchain>=0.0.218->llama-index) (1.3.3)\n",
      "Requirement already satisfied: aiosignal>=1.1.2 in c:\\users\\dell\\appdata\\local\\programs\\python\\python310\\lib\\site-packages (from aiohttp<4.0.0,>=3.8.3->langchain>=0.0.218->llama-index) (1.3.1)\n",
      "Requirement already satisfied: packaging>=17.0 in c:\\users\\dell\\appdata\\local\\programs\\python\\python310\\lib\\site-packages (from marshmallow<4.0.0,>=3.3.0->dataclasses-json->llama-index) (23.1)\n",
      "Requirement already satisfied: six>=1.5 in c:\\users\\dell\\appdata\\local\\programs\\python\\python310\\lib\\site-packages (from python-dateutil>=2.8.2->pandas->llama-index) (1.16.0)\n",
      "Requirement already satisfied: idna<4,>=2.5 in c:\\users\\dell\\appdata\\local\\programs\\python\\python310\\lib\\site-packages (from requests<3,>=2->langchain>=0.0.218->llama-index) (3.4)\n",
      "Requirement already satisfied: certifi>=2017.4.17 in c:\\users\\dell\\appdata\\local\\programs\\python\\python310\\lib\\site-packages (from requests<3,>=2->langchain>=0.0.218->llama-index) (2023.5.7)\n",
      "Requirement already satisfied: colorama in c:\\users\\dell\\appdata\\local\\programs\\python\\python310\\lib\\site-packages (from tqdm->openai>=0.26.4->llama-index) (0.4.6)\n",
      "Requirement already satisfied: openai in c:\\users\\dell\\appdata\\local\\programs\\python\\python310\\lib\\site-packages (0.27.8)\n",
      "Requirement already satisfied: requests>=2.20 in c:\\users\\dell\\appdata\\local\\programs\\python\\python310\\lib\\site-packages (from openai) (2.31.0)\n",
      "Requirement already satisfied: tqdm in c:\\users\\dell\\appdata\\local\\programs\\python\\python310\\lib\\site-packages (from openai) (4.65.0)\n",
      "Requirement already satisfied: aiohttp in c:\\users\\dell\\appdata\\local\\programs\\python\\python310\\lib\\site-packages (from openai) (3.8.4)\n",
      "Requirement already satisfied: charset-normalizer<4,>=2 in c:\\users\\dell\\appdata\\local\\programs\\python\\python310\\lib\\site-packages (from requests>=2.20->openai) (3.1.0)\n",
      "Requirement already satisfied: idna<4,>=2.5 in c:\\users\\dell\\appdata\\local\\programs\\python\\python310\\lib\\site-packages (from requests>=2.20->openai) (3.4)\n",
      "Requirement already satisfied: urllib3<3,>=1.21.1 in c:\\users\\dell\\appdata\\local\\programs\\python\\python310\\lib\\site-packages (from requests>=2.20->openai) (1.26.16)\n",
      "Requirement already satisfied: certifi>=2017.4.17 in c:\\users\\dell\\appdata\\local\\programs\\python\\python310\\lib\\site-packages (from requests>=2.20->openai) (2023.5.7)\n",
      "Requirement already satisfied: attrs>=17.3.0 in c:\\users\\dell\\appdata\\local\\programs\\python\\python310\\lib\\site-packages (from aiohttp->openai) (23.1.0)\n",
      "Requirement already satisfied: multidict<7.0,>=4.5 in c:\\users\\dell\\appdata\\local\\programs\\python\\python310\\lib\\site-packages (from aiohttp->openai) (6.0.4)\n",
      "Requirement already satisfied: async-timeout<5.0,>=4.0.0a3 in c:\\users\\dell\\appdata\\local\\programs\\python\\python310\\lib\\site-packages (from aiohttp->openai) (4.0.2)\n",
      "Requirement already satisfied: yarl<2.0,>=1.0 in c:\\users\\dell\\appdata\\local\\programs\\python\\python310\\lib\\site-packages (from aiohttp->openai) (1.9.2)\n",
      "Requirement already satisfied: frozenlist>=1.1.1 in c:\\users\\dell\\appdata\\local\\programs\\python\\python310\\lib\\site-packages (from aiohttp->openai) (1.3.3)\n",
      "Requirement already satisfied: aiosignal>=1.1.2 in c:\\users\\dell\\appdata\\local\\programs\\python\\python310\\lib\\site-packages (from aiohttp->openai) (1.3.1)\n",
      "Requirement already satisfied: colorama in c:\\users\\dell\\appdata\\local\\programs\\python\\python310\\lib\\site-packages (from tqdm->openai) (0.4.6)\n"
     ]
    }
   ],
   "source": [
    "!pip install llama-index\n",
    "!pip install openai"
   ]
  },
  {
   "cell_type": "markdown",
   "id": "4dd2596a",
   "metadata": {},
   "source": [
    "## Setup OpenAI API key"
   ]
  },
  {
   "cell_type": "code",
   "execution_count": 2,
   "id": "9dfb74be",
   "metadata": {},
   "outputs": [],
   "source": [
    "import sys\n",
    "\n",
    "sys.path.insert(0, 'D:/personal-git')\n",
    "from key_api import apiKey\n",
    "\n",
    "import os\n",
    "os.environ['OPENAI_API_KEY'] = apiKey"
   ]
  },
  {
   "cell_type": "markdown",
   "id": "376d84e8",
   "metadata": {},
   "source": [
    "## Reading the document and Setting up the libraries"
   ]
  },
  {
   "cell_type": "code",
   "execution_count": 3,
   "id": "35f0c360",
   "metadata": {},
   "outputs": [
    {
     "name": "stdout",
     "output_type": "stream",
     "text": [
      "[Document(id_='b6b639a3-137a-4abc-be8a-7334fc1b24f4', embedding=None, metadata={}, excluded_embed_metadata_keys=[], excluded_llm_metadata_keys=[], relationships={}, hash='6b054b24e5ec19e250653ece6db3725309e763cae93b7637f28ffa79524127fa', text=\"Frequently Asked Questions: PawsFlix - Canine Entertainment Unlimited\\n\\n1. What is PawsFlix?\\nPawsFlix is a revolutionary streaming service designed exclusively for dogs. It provides a wide range of engaging and entertaining content to keep your furry friend entertained and happy.\\n\\n2. How does PawsFlix work?\\nPawsFlix operates just like other popular streaming platforms. Simply download the PawsFlix app onto your smartphone, tablet, or smart TV, and create an account. Once logged in, you can explore the extensive library of dog-friendly content and select shows, videos, and interactive experiences for your furry companion.\\n\\n3. What kind of content is available on PawsFlix?\\nPawsFlix offers a vast collection of content tailored specifically for dogs. This includes soothing nature scenes, animated shows featuring other dogs, virtual walks through scenic locations, dog training videos, relaxing music composed for dogs, interactive games, and puzzles designed to stimulate their minds.\\n\\n4. Can I use PawsFlix for free?\\nPawsFlix provides both free and premium subscription options. The free version grants access to a limited selection of content, allowing you to get a taste of what the app offers. For an enhanced experience, you can subscribe to the premium version, which provides unlimited access to all content without any advertisements.\\n\\n5. Can I create multiple profiles for different dogs on PawsFlix?\\nAbsolutely! PawsFlix allows you to create multiple profiles, each tailored to a different dog in your household. This feature ensures that each furry friend receives personalized recommendations and content based on their preferences.\\n\\n6. Can PawsFlix help with anxiety or boredom in dogs?\\nYes, indeed! PawsFlix is designed to combat anxiety and boredom in dogs. The engaging content and interactive experiences can help keep dogs entertained and mentally stimulated, which can be beneficial for their overall well-being. However, it's important to note that PawsFlix should not replace regular exercise, playtime, and human interaction, which are also essential for a dog's happiness.\\n\\n7. Is PawsFlix suitable for all dog breeds and ages?\\nPawsFlix is suitable for dogs of all breeds and ages. The app offers a diverse range of content that can be enjoyed by puppies, adult dogs, and even senior dogs. However, it's always recommended to supervise your dog while they are engaging with the app and ensure that the content aligns with their specific needs and sensitivities.\\n\\n8. Can I use PawsFlix on multiple devices simultaneously?\\nYes! PawsFlix allows for simultaneous streaming on multiple devices. You and your furry friend can enjoy PawsFlix on your smartphone, tablet, and smart TV at the same time, ensuring that entertainment is always readily available.\\n\\n9. Can I download content from PawsFlix to watch offline?\\nCurrently, PawsFlix does not support the downloading of content for offline viewing. The app requires an active internet connection to stream the content. However, you can enjoy PawsFlix in areas with Wi-Fi or cellular data coverage.\\n\\n10. How often is new content added to PawsFlix?\\nPawsFlix is committed to continuously expanding its content library to keep things fresh and exciting for both dogs and their owners. New content, including shows, videos, and interactive experiences, is added on a regular basis to ensure a wide variety of options to choose from.\\n\\n11. How can I contact PawsFlix customer support?\\nIf you have any questions, concerns, or technical issues, you can reach out to the PawsFlix customer support team through the app or their official website. They will be more than happy to assist you with any inquiries you may have.\\n\\n12. Is PawsFlix available internationally?\\nYes! PawsFlix aims to bring canine entertainment to dogs worldwide. The app is available for download and subscription in multiple countries, allowing dog owners from various parts of the globe to enjoy its unique features and content.\\n\\n13. Can I customize my dog's profile on PawsFlix?\\nAbsolutely! PawsFlix allows you to customize your dog's profile with their name, photo, and preferences. You can input details such as their breed, age, and any specific interests they may have. This customization helps tailor the content recommendations to suit your dog's individual tastes.\\n\\n14. Can I create playlists of my dog's favorite shows or videos?\\nYes, you can create personalized playlists on PawsFlix. This feature enables you to curate a collection of your dog's favorite shows, videos, and interactive experiences, making it easy to access and enjoy their preferred content in one go.\\n\\n15. Can I use PawsFlix on multiple devices with one account?\\nAbsolutely! PawsFlix offers multi-device support, allowing you to use the app on multiple devices using a single account. This means you can start watching a show on your smartphone and seamlessly continue on your smart TV or tablet.\\n\\n16. Is PawsFlix safe for dogs to watch on their own?\\nYes, PawsFlix is designed to be safe for dogs to watch on their own. The content is carefully selected to provide a positive and calming experience. However, it's always a good idea to monitor your dog initially to ensure they engage with the content appropriately and do not exhibit any signs of discomfort or anxiety.\\n\\n17. Can I suggest content ideas or request specific shows or videos for PawsFlix?\\nPawsFlix values feedback from its users! While there is no guarantee that every suggestion can be implemented, you can certainly reach out to the PawsFlix team with your content ideas and requests. They appreciate hearing from their community and may consider adding requested content if it aligns with their vision and goals.\\n\\n18. Are there any age restrictions for using PawsFlix?\\nPawsFlix is designed for users aged 13 years and older. However, younger users can also enjoy the app under parental guidance and supervision.\\n\\n19. Can I share my PawsFlix account with friends or family?\\nSharing your PawsFlix account with friends or family is not recommended. Each subscription is intended for individual use, and sharing accounts can cause conflicts with simultaneous streaming and personalized recommendations.\\n\\n20. Can I cancel my PawsFlix subscription at any time?\\nYes, you can cancel your PawsFlix subscription at any time. Simply access your account settings within the app or on the website and follow the cancellation instructions. It's important to note that cancellation policies and refund availability may vary based on your subscription plan and regional regulations.\\n\\n21. Does PawsFlix offer a trial period for new users?\\nPawsFlix may offer a trial period for new users to experience the premium features of the app. These trial periods can vary in duration and may be subject to certain terms and conditions. Check the PawsFlix website or app for any available trial offers.\\n\\n22. Can I give feedback or rate shows on PawsFlix?\\nAbsolutely! PawsFlix encourages user feedback and ratings. You can provide feedback on shows, videos, interactive experiences, or the overall app experience. Your input helps PawsFlix improve its offerings and ensures a better experience for all users.\\n\\n23. In which countries is PawsFlix available?\\nPawsFlix is currently available in India, China, Japan, Italy, US, Pakistan, UAE, Nepal and Sri Lanka.\", start_char_idx=None, end_char_idx=None, text_template='{metadata_str}\\n\\n{content}', metadata_template='{key}: {value}', metadata_seperator='\\n')]\n"
     ]
    }
   ],
   "source": [
    "from llama_index import SimpleDirectoryReader\n",
    "documents = SimpleDirectoryReader(\"./\",  required_exts=[\".txt\"]).load_data()\n",
    "print(documents)"
   ]
  },
  {
   "cell_type": "markdown",
   "id": "c66facf5",
   "metadata": {},
   "source": [
    "## Constructing the index and saving it"
   ]
  },
  {
   "cell_type": "code",
   "execution_count": 4,
   "id": "dbccc7e4",
   "metadata": {},
   "outputs": [],
   "source": [
    "from llama_index import VectorStoreIndex\n",
    "index = VectorStoreIndex.from_documents(documents)\n",
    "\n",
    "#Saving Index\n",
    "index.storage_context.persist()\n",
    "\n",
    "#Loading Index from local storage\n",
    "from llama_index import StorageContext, load_index_from_storage\n",
    "storage_context = StorageContext.from_defaults(persist_dir=\"./storage\")\n",
    "index = load_index_from_storage(storage_context)\n",
    "\n",
    "query_engine = index.as_chat_engine()"
   ]
  },
  {
   "cell_type": "markdown",
   "id": "0a87f1f4",
   "metadata": {},
   "source": [
    "## Testing"
   ]
  },
  {
   "cell_type": "code",
   "execution_count": 5,
   "id": "721047d5",
   "metadata": {},
   "outputs": [
    {
     "name": "stdout",
     "output_type": "stream",
     "text": [
      "Users want features that are tailored to their individual needs and preferences, such as the ability to customize profiles, create personalized playlists, access content on multiple devices, provide a safe and calming experience, suggest content ideas, offer age-appropriate content, provide feedback and ratings, and offer trial periods. Additionally, users want an app that is available internationally and allows them to cancel their subscription at any time.\n",
      "2+2 is equal to 4.\n"
     ]
    }
   ],
   "source": [
    "response = query_engine.query(\"What features do users want to see in the app?\")\n",
    "print(response)\n",
    "print(query_engine.query(\"2+2\"))"
   ]
  },
  {
   "cell_type": "markdown",
   "id": "9553f109",
   "metadata": {},
   "source": [
    "## Loading Chat History"
   ]
  },
  {
   "cell_type": "code",
   "execution_count": 6,
   "id": "7e538932",
   "metadata": {},
   "outputs": [
    {
     "name": "stdout",
     "output_type": "stream",
     "text": [
      "[ChatMessage(role=<MessageRole.USER: 'user'>, content='What features do users want to see in the app?', additional_kwargs={}), ChatMessage(role=<MessageRole.ASSISTANT: 'assistant'>, content='Users want features that are tailored to their individual needs and preferences, such as the ability to customize profiles, create personalized playlists, access content on multiple devices, provide a safe and calming experience, suggest content ideas, offer age-appropriate content, provide feedback and ratings, and offer trial periods. Additionally, users want an app that is available internationally and allows them to cancel their subscription at any time.', additional_kwargs={}), ChatMessage(role=<MessageRole.USER: 'user'>, content='2+2', additional_kwargs={}), ChatMessage(role=<MessageRole.ASSISTANT: 'assistant'>, content='2+2 is equal to 4.', additional_kwargs={})]\n"
     ]
    }
   ],
   "source": [
    "print(query_engine.chat_history)"
   ]
  }
 ],
 "metadata": {
  "kernelspec": {
   "display_name": "Python 3 (ipykernel)",
   "language": "python",
   "name": "python3"
  },
  "language_info": {
   "codemirror_mode": {
    "name": "ipython",
    "version": 3
   },
   "file_extension": ".py",
   "mimetype": "text/x-python",
   "name": "python",
   "nbconvert_exporter": "python",
   "pygments_lexer": "ipython3",
   "version": "3.10.0"
  }
 },
 "nbformat": 4,
 "nbformat_minor": 5
}
